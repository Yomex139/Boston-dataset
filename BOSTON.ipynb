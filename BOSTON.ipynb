{
 "cells": [
  {
   "cell_type": "markdown",
   "metadata": {},
   "source": [
    "# Importing library"
   ]
  },
  {
   "cell_type": "code",
   "execution_count": 1,
   "metadata": {},
   "outputs": [],
   "source": [
    "import numpy as np\n",
    "import pandas as pd\n",
    "from pandas import Series,DataFrame"
   ]
  },
  {
   "cell_type": "markdown",
   "metadata": {},
   "source": [
    "# loading dataset"
   ]
  },
  {
   "cell_type": "code",
   "execution_count": 2,
   "metadata": {},
   "outputs": [],
   "source": [
    "from sklearn.datasets import load_boston\n",
    "boston = load_boston()\n",
    "boston;"
   ]
  },
  {
   "cell_type": "markdown",
   "metadata": {},
   "source": [
    "# dataframed the boston data"
   ]
  },
  {
   "cell_type": "code",
   "execution_count": 3,
   "metadata": {},
   "outputs": [],
   "source": [
    "df = DataFrame(boston['data'],columns=boston['feature_names'])\n",
    "df['target'] = boston['target']\n",
    "df.head();"
   ]
  },
  {
   "cell_type": "markdown",
   "metadata": {},
   "source": [
    "# define X and Y\n"
   ]
  },
  {
   "cell_type": "code",
   "execution_count": 4,
   "metadata": {},
   "outputs": [],
   "source": [
    "X = df.drop('target',axis=1)\n",
    "Y  = df['target']"
   ]
  },
  {
   "cell_type": "markdown",
   "metadata": {},
   "source": [
    "# splitting data"
   ]
  },
  {
   "cell_type": "code",
   "execution_count": 5,
   "metadata": {},
   "outputs": [],
   "source": [
    "from sklearn.model_selection import train_test_split\n",
    "X_train,X_test,Y_train,Y_test = train_test_split(X,Y,test_size=0.2)"
   ]
  },
  {
   "cell_type": "markdown",
   "metadata": {},
   "source": [
    "# importing the right model"
   ]
  },
  {
   "cell_type": "code",
   "execution_count": 6,
   "metadata": {},
   "outputs": [
    {
     "data": {
      "text/plain": [
       "array([22.7982549, 22.7982549, 22.7982549, 22.7982549, 22.7982549,\n",
       "       22.7982549, 22.7982549, 22.7982549, 22.7982549, 22.7982549,\n",
       "       22.7982549, 22.7982549, 22.7982549, 22.7982549, 22.7982549,\n",
       "       22.7982549, 22.7982549, 22.7982549, 22.7982549, 22.7982549,\n",
       "       22.7982549, 22.7982549, 22.7982549, 22.7982549, 22.7982549,\n",
       "       22.7982549, 22.7982549, 22.7982549, 22.7982549, 22.7982549,\n",
       "       22.7982549, 22.7982549, 22.7982549, 22.7982549, 22.7982549,\n",
       "       22.7982549, 22.7982549, 22.7982549, 22.7982549, 22.7982549,\n",
       "       22.7982549, 22.7982549, 22.7982549, 22.7982549, 22.7982549,\n",
       "       22.7982549, 22.7982549, 22.7982549, 22.7982549, 22.7982549,\n",
       "       22.7982549, 22.7982549, 22.7982549, 22.7982549, 22.7982549,\n",
       "       22.7982549, 22.7982549, 22.7982549, 22.7982549, 22.7982549,\n",
       "       22.7982549, 22.7982549, 22.7982549, 22.7982549, 22.7982549,\n",
       "       22.7982549, 22.7982549, 22.7982549, 22.7982549, 22.7982549,\n",
       "       22.7982549, 22.7982549, 22.7982549, 22.7982549, 22.7982549,\n",
       "       22.7982549, 22.7982549, 22.7982549, 22.7982549, 22.7982549,\n",
       "       22.7982549, 22.7982549, 22.7982549, 22.7982549, 22.7982549,\n",
       "       22.7982549, 22.7982549, 22.7982549, 22.7982549, 22.7982549,\n",
       "       22.7982549, 22.7982549, 22.7982549, 22.7982549, 22.7982549,\n",
       "       22.7982549, 22.7982549, 22.7982549, 22.7982549, 22.7982549,\n",
       "       22.7982549, 22.7982549])"
      ]
     },
     "execution_count": 6,
     "metadata": {},
     "output_type": "execute_result"
    }
   ],
   "source": [
    "from sklearn.ensemble import RandomForestRegressor\n",
    "RFR = RandomForestRegressor()\n",
    "RFR.fit(X_train,Y_train)\n",
    "Ypred = RFR.predict(X_test)\n",
    "Ypred\n",
    "\n",
    "Ypred_mean = np.full(len(Ypred),fill_value=Ypred.mean())\n",
    "Ypred_mean"
   ]
  },
  {
   "cell_type": "markdown",
   "metadata": {},
   "source": [
    "# finding the r2\n",
    "**r2**"
   ]
  },
  {
   "cell_type": "code",
   "execution_count": 7,
   "metadata": {},
   "outputs": [
    {
     "data": {
      "text/plain": [
       "0.8231622609548024"
      ]
     },
     "execution_count": 7,
     "metadata": {},
     "output_type": "execute_result"
    }
   ],
   "source": [
    "from sklearn.metrics import r2_score\n",
    "r2_score(Y_test,Ypred)"
   ]
  },
  {
   "cell_type": "markdown",
   "metadata": {},
   "source": [
    "**Mean Absolute Error(MAE)**"
   ]
  },
  {
   "cell_type": "code",
   "execution_count": 8,
   "metadata": {},
   "outputs": [
    {
     "data": {
      "text/html": [
       "<div>\n",
       "<style scoped>\n",
       "    .dataframe tbody tr th:only-of-type {\n",
       "        vertical-align: middle;\n",
       "    }\n",
       "\n",
       "    .dataframe tbody tr th {\n",
       "        vertical-align: top;\n",
       "    }\n",
       "\n",
       "    .dataframe thead th {\n",
       "        text-align: right;\n",
       "    }\n",
       "</style>\n",
       "<table border=\"1\" class=\"dataframe\">\n",
       "  <thead>\n",
       "    <tr style=\"text-align: right;\">\n",
       "      <th></th>\n",
       "      <th>actual value</th>\n",
       "      <th>predicted value</th>\n",
       "      <th>diffrence</th>\n",
       "      <th>diff_square</th>\n",
       "      <th>mean</th>\n",
       "    </tr>\n",
       "  </thead>\n",
       "  <tbody>\n",
       "    <tr>\n",
       "      <th>374</th>\n",
       "      <td>13.8</td>\n",
       "      <td>12.153</td>\n",
       "      <td>1.647</td>\n",
       "      <td>1.647</td>\n",
       "      <td>2.652157</td>\n",
       "    </tr>\n",
       "    <tr>\n",
       "      <th>192</th>\n",
       "      <td>36.4</td>\n",
       "      <td>34.377</td>\n",
       "      <td>2.023</td>\n",
       "      <td>2.023</td>\n",
       "      <td>2.652157</td>\n",
       "    </tr>\n",
       "    <tr>\n",
       "      <th>364</th>\n",
       "      <td>21.9</td>\n",
       "      <td>45.324</td>\n",
       "      <td>-23.424</td>\n",
       "      <td>23.424</td>\n",
       "      <td>2.652157</td>\n",
       "    </tr>\n",
       "    <tr>\n",
       "      <th>16</th>\n",
       "      <td>23.1</td>\n",
       "      <td>21.755</td>\n",
       "      <td>1.345</td>\n",
       "      <td>1.345</td>\n",
       "      <td>2.652157</td>\n",
       "    </tr>\n",
       "    <tr>\n",
       "      <th>31</th>\n",
       "      <td>14.5</td>\n",
       "      <td>19.886</td>\n",
       "      <td>-5.386</td>\n",
       "      <td>5.386</td>\n",
       "      <td>2.652157</td>\n",
       "    </tr>\n",
       "    <tr>\n",
       "      <th>...</th>\n",
       "      <td>...</td>\n",
       "      <td>...</td>\n",
       "      <td>...</td>\n",
       "      <td>...</td>\n",
       "      <td>...</td>\n",
       "    </tr>\n",
       "    <tr>\n",
       "      <th>431</th>\n",
       "      <td>14.1</td>\n",
       "      <td>20.694</td>\n",
       "      <td>-6.594</td>\n",
       "      <td>6.594</td>\n",
       "      <td>2.652157</td>\n",
       "    </tr>\n",
       "    <tr>\n",
       "      <th>161</th>\n",
       "      <td>50.0</td>\n",
       "      <td>43.487</td>\n",
       "      <td>6.513</td>\n",
       "      <td>6.513</td>\n",
       "      <td>2.652157</td>\n",
       "    </tr>\n",
       "    <tr>\n",
       "      <th>443</th>\n",
       "      <td>15.4</td>\n",
       "      <td>15.357</td>\n",
       "      <td>0.043</td>\n",
       "      <td>0.043</td>\n",
       "      <td>2.652157</td>\n",
       "    </tr>\n",
       "    <tr>\n",
       "      <th>173</th>\n",
       "      <td>23.6</td>\n",
       "      <td>22.852</td>\n",
       "      <td>0.748</td>\n",
       "      <td>0.748</td>\n",
       "      <td>2.652157</td>\n",
       "    </tr>\n",
       "    <tr>\n",
       "      <th>413</th>\n",
       "      <td>16.3</td>\n",
       "      <td>14.968</td>\n",
       "      <td>1.332</td>\n",
       "      <td>1.332</td>\n",
       "      <td>2.652157</td>\n",
       "    </tr>\n",
       "  </tbody>\n",
       "</table>\n",
       "<p>102 rows × 5 columns</p>\n",
       "</div>"
      ],
      "text/plain": [
       "     actual value  predicted value  diffrence  diff_square      mean\n",
       "374          13.8           12.153      1.647        1.647  2.652157\n",
       "192          36.4           34.377      2.023        2.023  2.652157\n",
       "364          21.9           45.324    -23.424       23.424  2.652157\n",
       "16           23.1           21.755      1.345        1.345  2.652157\n",
       "31           14.5           19.886     -5.386        5.386  2.652157\n",
       "..            ...              ...        ...          ...       ...\n",
       "431          14.1           20.694     -6.594        6.594  2.652157\n",
       "161          50.0           43.487      6.513        6.513  2.652157\n",
       "443          15.4           15.357      0.043        0.043  2.652157\n",
       "173          23.6           22.852      0.748        0.748  2.652157\n",
       "413          16.3           14.968      1.332        1.332  2.652157\n",
       "\n",
       "[102 rows x 5 columns]"
      ]
     },
     "execution_count": 8,
     "metadata": {},
     "output_type": "execute_result"
    }
   ],
   "source": [
    "df1 = DataFrame({'actual value':Y_test,\n",
    "                'predicted value':Ypred})\n",
    "df1['diffrence'] = df1['actual value']-df1['predicted value']\n",
    "df1['diff_square'] = np.absolute(df1['diffrence'])\n",
    "df1['mean'] = df1['diff_square'].mean()\n",
    "df1"
   ]
  },
  {
   "cell_type": "code",
   "execution_count": 9,
   "metadata": {},
   "outputs": [
    {
     "data": {
      "text/plain": [
       "2.652156862745097"
      ]
     },
     "execution_count": 9,
     "metadata": {},
     "output_type": "execute_result"
    }
   ],
   "source": [
    "from sklearn.metrics import mean_absolute_error\n",
    "MAE = mean_absolute_error(Y_test,Ypred)\n",
    "MAE"
   ]
  },
  {
   "cell_type": "code",
   "execution_count": 10,
   "metadata": {},
   "outputs": [
    {
     "data": {
      "text/plain": [
       "16.330085431372545"
      ]
     },
     "execution_count": 10,
     "metadata": {},
     "output_type": "execute_result"
    }
   ],
   "source": [
    "from sklearn.metrics import mean_squared_error\n",
    "MSE = mean_squared_error(Y_test,Ypred)\n",
    "MSE"
   ]
  },
  {
   "cell_type": "code",
   "execution_count": 11,
   "metadata": {},
   "outputs": [
    {
     "data": {
      "text/html": [
       "<div>\n",
       "<style scoped>\n",
       "    .dataframe tbody tr th:only-of-type {\n",
       "        vertical-align: middle;\n",
       "    }\n",
       "\n",
       "    .dataframe tbody tr th {\n",
       "        vertical-align: top;\n",
       "    }\n",
       "\n",
       "    .dataframe thead th {\n",
       "        text-align: right;\n",
       "    }\n",
       "</style>\n",
       "<table border=\"1\" class=\"dataframe\">\n",
       "  <thead>\n",
       "    <tr style=\"text-align: right;\">\n",
       "      <th></th>\n",
       "      <th>actual value</th>\n",
       "      <th>predicted value</th>\n",
       "      <th>diffrence</th>\n",
       "      <th>diff_square</th>\n",
       "      <th>mean</th>\n",
       "    </tr>\n",
       "  </thead>\n",
       "  <tbody>\n",
       "    <tr>\n",
       "      <th>374</th>\n",
       "      <td>13.8</td>\n",
       "      <td>12.153</td>\n",
       "      <td>1.647</td>\n",
       "      <td>2.712609</td>\n",
       "      <td>16.330085</td>\n",
       "    </tr>\n",
       "    <tr>\n",
       "      <th>192</th>\n",
       "      <td>36.4</td>\n",
       "      <td>34.377</td>\n",
       "      <td>2.023</td>\n",
       "      <td>4.092529</td>\n",
       "      <td>16.330085</td>\n",
       "    </tr>\n",
       "    <tr>\n",
       "      <th>364</th>\n",
       "      <td>21.9</td>\n",
       "      <td>45.324</td>\n",
       "      <td>-23.424</td>\n",
       "      <td>548.683776</td>\n",
       "      <td>16.330085</td>\n",
       "    </tr>\n",
       "    <tr>\n",
       "      <th>16</th>\n",
       "      <td>23.1</td>\n",
       "      <td>21.755</td>\n",
       "      <td>1.345</td>\n",
       "      <td>1.809025</td>\n",
       "      <td>16.330085</td>\n",
       "    </tr>\n",
       "    <tr>\n",
       "      <th>31</th>\n",
       "      <td>14.5</td>\n",
       "      <td>19.886</td>\n",
       "      <td>-5.386</td>\n",
       "      <td>29.008996</td>\n",
       "      <td>16.330085</td>\n",
       "    </tr>\n",
       "    <tr>\n",
       "      <th>...</th>\n",
       "      <td>...</td>\n",
       "      <td>...</td>\n",
       "      <td>...</td>\n",
       "      <td>...</td>\n",
       "      <td>...</td>\n",
       "    </tr>\n",
       "    <tr>\n",
       "      <th>431</th>\n",
       "      <td>14.1</td>\n",
       "      <td>20.694</td>\n",
       "      <td>-6.594</td>\n",
       "      <td>43.480836</td>\n",
       "      <td>16.330085</td>\n",
       "    </tr>\n",
       "    <tr>\n",
       "      <th>161</th>\n",
       "      <td>50.0</td>\n",
       "      <td>43.487</td>\n",
       "      <td>6.513</td>\n",
       "      <td>42.419169</td>\n",
       "      <td>16.330085</td>\n",
       "    </tr>\n",
       "    <tr>\n",
       "      <th>443</th>\n",
       "      <td>15.4</td>\n",
       "      <td>15.357</td>\n",
       "      <td>0.043</td>\n",
       "      <td>0.001849</td>\n",
       "      <td>16.330085</td>\n",
       "    </tr>\n",
       "    <tr>\n",
       "      <th>173</th>\n",
       "      <td>23.6</td>\n",
       "      <td>22.852</td>\n",
       "      <td>0.748</td>\n",
       "      <td>0.559504</td>\n",
       "      <td>16.330085</td>\n",
       "    </tr>\n",
       "    <tr>\n",
       "      <th>413</th>\n",
       "      <td>16.3</td>\n",
       "      <td>14.968</td>\n",
       "      <td>1.332</td>\n",
       "      <td>1.774224</td>\n",
       "      <td>16.330085</td>\n",
       "    </tr>\n",
       "  </tbody>\n",
       "</table>\n",
       "<p>102 rows × 5 columns</p>\n",
       "</div>"
      ],
      "text/plain": [
       "     actual value  predicted value  diffrence  diff_square       mean\n",
       "374          13.8           12.153      1.647     2.712609  16.330085\n",
       "192          36.4           34.377      2.023     4.092529  16.330085\n",
       "364          21.9           45.324    -23.424   548.683776  16.330085\n",
       "16           23.1           21.755      1.345     1.809025  16.330085\n",
       "31           14.5           19.886     -5.386    29.008996  16.330085\n",
       "..            ...              ...        ...          ...        ...\n",
       "431          14.1           20.694     -6.594    43.480836  16.330085\n",
       "161          50.0           43.487      6.513    42.419169  16.330085\n",
       "443          15.4           15.357      0.043     0.001849  16.330085\n",
       "173          23.6           22.852      0.748     0.559504  16.330085\n",
       "413          16.3           14.968      1.332     1.774224  16.330085\n",
       "\n",
       "[102 rows x 5 columns]"
      ]
     },
     "execution_count": 11,
     "metadata": {},
     "output_type": "execute_result"
    }
   ],
   "source": [
    "df2 = DataFrame({'actual value':Y_test,\n",
    "                'predicted value':Ypred})\n",
    "df2['diffrence'] = df2['actual value']-df1['predicted value']\n",
    "df2['diff_square'] = df2['diffrence']**2\n",
    "df2['mean'] = df2['diff_square'].mean()\n",
    "df2"
   ]
  },
  {
   "cell_type": "code",
   "execution_count": null,
   "metadata": {},
   "outputs": [],
   "source": []
  },
  {
   "cell_type": "code",
   "execution_count": null,
   "metadata": {},
   "outputs": [],
   "source": []
  },
  {
   "cell_type": "code",
   "execution_count": null,
   "metadata": {},
   "outputs": [],
   "source": []
  },
  {
   "cell_type": "code",
   "execution_count": null,
   "metadata": {},
   "outputs": [],
   "source": []
  },
  {
   "cell_type": "code",
   "execution_count": null,
   "metadata": {},
   "outputs": [],
   "source": []
  }
 ],
 "metadata": {
  "kernelspec": {
   "display_name": "Python 3",
   "language": "python",
   "name": "python3"
  },
  "language_info": {
   "codemirror_mode": {
    "name": "ipython",
    "version": 3
   },
   "file_extension": ".py",
   "mimetype": "text/x-python",
   "name": "python",
   "nbconvert_exporter": "python",
   "pygments_lexer": "ipython3",
   "version": "3.8.5"
  }
 },
 "nbformat": 4,
 "nbformat_minor": 4
}
